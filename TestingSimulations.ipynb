{
 "cells": [
  {
   "cell_type": "code",
   "execution_count": null,
   "metadata": {},
   "outputs": [],
   "source": [
    "#%pip install stable-baselines3==1.2.0"
   ]
  },
  {
   "cell_type": "code",
   "execution_count": null,
   "metadata": {},
   "outputs": [],
   "source": [
    "#%pip install gym==0.25.2"
   ]
  },
  {
   "cell_type": "code",
   "execution_count": null,
   "metadata": {},
   "outputs": [],
   "source": [
    "#%pip install gym-super-mario-bros==7.3.0"
   ]
  },
  {
   "cell_type": "code",
   "execution_count": null,
   "metadata": {},
   "outputs": [],
   "source": [
    "#%pip install opencv-python"
   ]
  },
  {
   "cell_type": "code",
   "execution_count": 7,
   "metadata": {},
   "outputs": [],
   "source": [
    "import os\n",
    "from stable_baselines3 import PPO\n",
    "from stable_baselines3.common.callbacks import BaseCallback\n",
    "import gym_super_mario_bros\n",
    "from nes_py.wrappers import JoypadSpace\n",
    "from gym_super_mario_bros.actions import SIMPLE_MOVEMENT,COMPLEX_MOVEMENT,RIGHT_ONLY\n",
    "from gym.wrappers import GrayScaleObservation\n",
    "from stable_baselines3.common.vec_env import VecFrameStack, DummyVecEnv\n",
    "from matplotlib import pyplot as plt\n",
    "import cv2\n",
    "import numpy as np"
   ]
  },
  {
   "cell_type": "code",
   "execution_count": null,
   "metadata": {},
   "outputs": [],
   "source": [
    "CHECKPOINT_DIR = './train'\n",
    "LOG_DIR = './logs'\n",
    "\n",
    "model = PPO.load('./train/best_model_10000')"
   ]
  },
  {
   "cell_type": "code",
   "execution_count": 3,
   "metadata": {},
   "outputs": [
    {
     "name": "stdout",
     "output_type": "stream",
     "text": [
      "['SuperMarioBros-1-4-v0', 'SuperMarioBros-2-4-v0', 'SuperMarioBros-3-4-v0', 'SuperMarioBros-4-4-v0', 'SuperMarioBros-5-4-v0', 'SuperMarioBros-6-4-v0', 'SuperMarioBros-7-4-v0', 'SuperMarioBros-8-4-v0']\n",
      "['SuperMarioBros-1-1-v0', 'SuperMarioBros-1-2-v0', 'SuperMarioBros-1-3-v0', 'SuperMarioBros-2-1-v0', 'SuperMarioBros-2-2-v0', 'SuperMarioBros-2-3-v0', 'SuperMarioBros-3-1-v0', 'SuperMarioBros-3-2-v0', 'SuperMarioBros-3-3-v0', 'SuperMarioBros-4-1-v0', 'SuperMarioBros-4-2-v0', 'SuperMarioBros-4-3-v0', 'SuperMarioBros-5-1-v0', 'SuperMarioBros-5-2-v0', 'SuperMarioBros-5-3-v0', 'SuperMarioBros-6-1-v0', 'SuperMarioBros-6-2-v0', 'SuperMarioBros-6-3-v0', 'SuperMarioBros-7-1-v0', 'SuperMarioBros-7-2-v0', 'SuperMarioBros-7-3-v0', 'SuperMarioBros-8-1-v0', 'SuperMarioBros-8-2-v0', 'SuperMarioBros-8-3-v0']\n"
     ]
    }
   ],
   "source": [
    "def allWorldStagesTesting():\n",
    "    worlds = [1, 2, 3, 4, 5, 6, 7, 8]\n",
    "    #Training on Stages 1-3 for each world, testing on final stage of each world\n",
    "    stages = [4]\n",
    "\n",
    "    for world in worlds:\n",
    "        for stage in stages:\n",
    "            environment_name = f\"SuperMarioBros-{world}-{stage}-v0\"\n",
    "            yield environment_name\n",
    "\n",
    "env_names = [name for name in allWorldStagesTesting()]\n",
    "print(env_names)\n",
    "\n",
    "def allWorldStages():\n",
    "    worlds = [1, 2, 3, 4, 5, 6, 7, 8]\n",
    "    #Training on Stages 1-3 for each world, testing on final stage of each world\n",
    "    stages = [1, 2, 3]\n",
    "\n",
    "    for world in worlds:\n",
    "        for stage in stages:\n",
    "            environment_name = f\"SuperMarioBros-{world}-{stage}-v0\"\n",
    "            yield environment_name\n",
    "\n",
    "env_names = [name for name in allWorldStages()]\n",
    "print(env_names)\n",
    "\n",
    "def make_env(env_name):\n",
    "    env = gym_super_mario_bros.make(env_name)\n",
    "    env = JoypadSpace(env, SIMPLE_MOVEMENT)\n",
    "    env = GrayScaleObservation(env, keep_dim=True)\n",
    "    return env"
   ]
  },
  {
   "cell_type": "code",
   "execution_count": null,
   "metadata": {},
   "outputs": [],
   "source": [
    "env_names = [name for name in allWorldStagesTesting()]\n",
    "env_list = [make_env(name) for name in env_names]\n",
    "\n",
    "env = DummyVecEnv([lambda env_name=name: make_env(env_name) for name in env_names])\n",
    "\n",
    "env = VecFrameStack(env, 4, channels_order='last')\n",
    "state = env.reset()\n",
    "print(state.shape)"
   ]
  },
  {
   "cell_type": "code",
   "execution_count": 14,
   "metadata": {},
   "outputs": [],
   "source": [
    "state = env.reset()"
   ]
  },
  {
   "cell_type": "code",
   "execution_count": null,
   "metadata": {},
   "outputs": [],
   "source": [
    "while True:\n",
    "    action, _state, = model.predict(state)\n",
    "    state, reward, done, info = env.step(action)\n",
    "    env.render()"
   ]
  }
 ],
 "metadata": {
  "kernelspec": {
   "display_name": "aci",
   "language": "python",
   "name": "python3"
  },
  "language_info": {
   "codemirror_mode": {
    "name": "ipython",
    "version": 3
   },
   "file_extension": ".py",
   "mimetype": "text/x-python",
   "name": "python",
   "nbconvert_exporter": "python",
   "pygments_lexer": "ipython3",
   "version": "3.10.13"
  }
 },
 "nbformat": 4,
 "nbformat_minor": 2
}
