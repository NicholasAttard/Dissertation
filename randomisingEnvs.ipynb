{
 "cells": [
  {
   "cell_type": "code",
   "execution_count": null,
   "metadata": {},
   "outputs": [],
   "source": [
    "import gym_super_mario_bros\n",
    "from nes_py.wrappers import JoypadSpace\n",
    "from gym_super_mario_bros.actions import SIMPLE_MOVEMENT,COMPLEX_MOVEMENT,RIGHT_ONLY\n",
    "from gym.wrappers import GrayScaleObservation\n",
    "from stable_baselines3.common.vec_env import VecFrameStack, DummyVecEnv\n",
    "from matplotlib import pyplot as plt\n",
    "import random"
   ]
  },
  {
   "cell_type": "code",
   "execution_count": 2,
   "metadata": {},
   "outputs": [],
   "source": [
    "def randomize_super_mario_env():\n",
    "    worlds = [1, 2, 3, 4, 5, 6, 7, 8]\n",
    "    stages = [1, 2, 3, 4]\n",
    "\n",
    "    # Randomly choose a world and stage\n",
    "    random_world = random.choice(worlds)\n",
    "    random_stage = random.choice(stages)\n",
    "\n",
    "    # Construct the environment string\n",
    "    environment_name = f\"SuperMarioBros-{random_world}-{random_stage}-v0\"\n",
    "\n",
    "    return environment_name"
   ]
  },
  {
   "cell_type": "code",
   "execution_count": null,
   "metadata": {},
   "outputs": [],
   "source": [
    "RndEnv = randomize_super_mario_env()\n",
    "print(RndEnv)"
   ]
  },
  {
   "cell_type": "code",
   "execution_count": 4,
   "metadata": {},
   "outputs": [],
   "source": [
    "def make_env():\n",
    "    RndEnv = randomize_super_mario_env()\n",
    "    env = gym_super_mario_bros.make(RndEnv)\n",
    "    env = JoypadSpace(env, SIMPLE_MOVEMENT)\n",
    "    env = GrayScaleObservation(env, keep_dim=True)\n",
    "    return env"
   ]
  },
  {
   "cell_type": "code",
   "execution_count": null,
   "metadata": {},
   "outputs": [],
   "source": [
    "num_envs = 5\n",
    "env = DummyVecEnv([make_env for _ in range(num_envs)])\n",
    "\n",
    "# Stack frames for each environment\n",
    "env = VecFrameStack(env, 4, channels_order='last')\n",
    "state = env.reset()\n",
    "print(state.shape)"
   ]
  },
  {
   "cell_type": "code",
   "execution_count": null,
   "metadata": {},
   "outputs": [],
   "source": [
    "for _ in range(100):  # Render for 100 steps (you can adjust this number)\n",
    "    obs = env.render(mode='human')  # Adjust 'mode' if necessary\n",
    "    actions = [env.action_space.sample() for _ in range(env.num_envs)]  # Replace with your actual actions\n",
    "    obs, rewards, dones, info = env.step(actions)\n",
    "\n",
    "env.close()  # Close the environment after rendering"
   ]
  }
 ],
 "metadata": {
  "kernelspec": {
   "display_name": "Python 3",
   "language": "python",
   "name": "python3"
  },
  "language_info": {
   "codemirror_mode": {
    "name": "ipython",
    "version": 3
   },
   "file_extension": ".py",
   "mimetype": "text/x-python",
   "name": "python",
   "nbconvert_exporter": "python",
   "pygments_lexer": "ipython3",
   "version": "3.7.16"
  }
 },
 "nbformat": 4,
 "nbformat_minor": 2
}
